{
 "cells": [
  {
   "cell_type": "markdown",
   "metadata": {},
   "source": [
    "# homework 3: permutation tests"
   ]
  },
  {
   "cell_type": "code",
   "execution_count": 100,
   "metadata": {},
   "outputs": [
    {
     "data": {
      "text/plain": [
       "300"
      ]
     },
     "execution_count": 100,
     "metadata": {},
     "output_type": "execute_result"
    }
   ],
   "source": [
    "# Homework 3 Kingsley Chukwu\n",
    "using DataFrames\n",
    "using CSV\n",
    "using PyPlot\n",
    "using Random\n",
    "\n",
    "# (optional) change the style. see styles here: https://matplotlib.org/3.1.1/gallery/style_sheets/style_sheets_reference.html\n",
    "PyPlot.matplotlib.style.use(\"bmh\")                                    \n",
    "                                                                                  \n",
    "# (optional) change settings for all plots at once, e.g. I like larger font size                           \n",
    "rcParams = PyPlot.PyDict(PyPlot.matplotlib.rcParams)                           \n",
    "rcParams[\"font.size\"] = 16\n",
    "\n",
    "# (optional) change the max width of columns of `DataFrame`\n",
    "#  that are displayed in the Juptyer Notebook.\n",
    "ENV[\"COLUMNS\"] = 300 # characters"
   ]
  },
  {
   "cell_type": "markdown",
   "metadata": {},
   "source": [
    "### modifying the Cavendish banana to make it more resistant to Panama disease\n",
    "\n",
    "The Cavendish [banana is threatened](https://www.theguardian.com/science/2018/aug/05/science-search-for-a-super-banana-panama-disease-gm-gene-editing) by Panama disease, which is caused by a fungus. An active area of research is to genetically modify the Cavendish banana plant to make it resistant to Panama disease.\n",
    "\n",
    "<img src=https://upload.wikimedia.org/wikipedia/commons/thumb/9/9b/Cavendish_Banana_DS.jpg/1920px-Cavendish_Banana_DS.jpg width=200>\n",
    "\n",
    "In this homework assignment, we have identified a gene in the banana plant, gene X, that is thought to be associated with resistance to fungal infection. Using modern gene editing tools such as CRISPR, we are able to make a precise, single-nucleotide edit to the gene X that appears in the wild. The hope is that this single nucleotide polymorphism will confer protection against fungal infection. \n",
    "\n",
    "To experimentally test whether a certain mutation of gene X will confer greater resistance to Panama disease, we randomly select 60 healthy banana plants from different regions/farms that have not been exposed to the fungus causing Panama disease (all free of Panama disease). Of these 60 plants, we randomly select 30 to receive the genetic mutation on gene X. We then collect one seed from all 60 plants. \n",
    "\n",
    "A botanist then plants each seed in a pot whose soil is known to harbor the fungus that causes Panama disease. The plants are all contained in a single greenhouse. After one year, the botanist records whether or not each grown banana plant has been infected with Panama disease. The study is \"blind\" because we never told the botanist which seeds are modified and which are not. This way, the botanist cannot (advertently or inadvertently) treat the two different variants of plants differently and thereby influence the outcome of the experiment in a biased manner.\n",
    "\n",
    "(1) the results of our randomized experiment are in `banana_study.csv`. each row represents a banana plant. the `:gene_x` attribute indicates whether gene X in the banana plant is the wild type or mutant. the `:outcome` attribute indicates the outcome of the experiment (infected or not infected). read in `banana_study.csv` as a `DataFrame`, `df`."
   ]
  },
  {
   "cell_type": "code",
   "execution_count": 101,
   "metadata": {},
   "outputs": [
    {
     "data": {
      "text/html": [
       "<table class=\"data-frame\"><thead><tr><th></th><th>gene_x</th><th>outcome</th></tr><tr><th></th><th>String</th><th>String</th></tr></thead><tbody><p>60 rows × 2 columns</p><tr><th>1</th><td>wild type</td><td>not infected</td></tr><tr><th>2</th><td>wild type</td><td>infected</td></tr><tr><th>3</th><td>wild type</td><td>not infected</td></tr><tr><th>4</th><td>wild type</td><td>not infected</td></tr><tr><th>5</th><td>wild type</td><td>not infected</td></tr><tr><th>6</th><td>wild type</td><td>not infected</td></tr><tr><th>7</th><td>wild type</td><td>infected</td></tr><tr><th>8</th><td>wild type</td><td>infected</td></tr><tr><th>9</th><td>wild type</td><td>not infected</td></tr><tr><th>10</th><td>wild type</td><td>not infected</td></tr><tr><th>11</th><td>wild type</td><td>not infected</td></tr><tr><th>12</th><td>wild type</td><td>not infected</td></tr><tr><th>13</th><td>wild type</td><td>not infected</td></tr><tr><th>14</th><td>wild type</td><td>not infected</td></tr><tr><th>15</th><td>wild type</td><td>not infected</td></tr><tr><th>16</th><td>wild type</td><td>not infected</td></tr><tr><th>17</th><td>wild type</td><td>not infected</td></tr><tr><th>18</th><td>wild type</td><td>not infected</td></tr><tr><th>19</th><td>wild type</td><td>infected</td></tr><tr><th>20</th><td>wild type</td><td>not infected</td></tr><tr><th>21</th><td>wild type</td><td>not infected</td></tr><tr><th>22</th><td>wild type</td><td>not infected</td></tr><tr><th>23</th><td>wild type</td><td>not infected</td></tr><tr><th>24</th><td>wild type</td><td>not infected</td></tr><tr><th>25</th><td>wild type</td><td>not infected</td></tr><tr><th>26</th><td>wild type</td><td>not infected</td></tr><tr><th>27</th><td>wild type</td><td>not infected</td></tr><tr><th>28</th><td>wild type</td><td>not infected</td></tr><tr><th>29</th><td>wild type</td><td>not infected</td></tr><tr><th>30</th><td>wild type</td><td>not infected</td></tr><tr><th>&vellip;</th><td>&vellip;</td><td>&vellip;</td></tr></tbody></table>"
      ],
      "text/latex": [
       "\\begin{tabular}{r|cc}\n",
       "\t& gene\\_x & outcome\\\\\n",
       "\t\\hline\n",
       "\t& String & String\\\\\n",
       "\t\\hline\n",
       "\t1 & wild type & not infected \\\\\n",
       "\t2 & wild type & infected \\\\\n",
       "\t3 & wild type & not infected \\\\\n",
       "\t4 & wild type & not infected \\\\\n",
       "\t5 & wild type & not infected \\\\\n",
       "\t6 & wild type & not infected \\\\\n",
       "\t7 & wild type & infected \\\\\n",
       "\t8 & wild type & infected \\\\\n",
       "\t9 & wild type & not infected \\\\\n",
       "\t10 & wild type & not infected \\\\\n",
       "\t11 & wild type & not infected \\\\\n",
       "\t12 & wild type & not infected \\\\\n",
       "\t13 & wild type & not infected \\\\\n",
       "\t14 & wild type & not infected \\\\\n",
       "\t15 & wild type & not infected \\\\\n",
       "\t16 & wild type & not infected \\\\\n",
       "\t17 & wild type & not infected \\\\\n",
       "\t18 & wild type & not infected \\\\\n",
       "\t19 & wild type & infected \\\\\n",
       "\t20 & wild type & not infected \\\\\n",
       "\t21 & wild type & not infected \\\\\n",
       "\t22 & wild type & not infected \\\\\n",
       "\t23 & wild type & not infected \\\\\n",
       "\t24 & wild type & not infected \\\\\n",
       "\t25 & wild type & not infected \\\\\n",
       "\t26 & wild type & not infected \\\\\n",
       "\t27 & wild type & not infected \\\\\n",
       "\t28 & wild type & not infected \\\\\n",
       "\t29 & wild type & not infected \\\\\n",
       "\t30 & wild type & not infected \\\\\n",
       "\t$\\dots$ & $\\dots$ & $\\dots$ \\\\\n",
       "\\end{tabular}\n"
      ],
      "text/plain": [
       "60×2 DataFrame\n",
       "│ Row │ gene_x    │ outcome      │\n",
       "│     │ \u001b[90mString\u001b[39m    │ \u001b[90mString\u001b[39m       │\n",
       "├─────┼───────────┼──────────────┤\n",
       "│ 1   │ wild type │ not infected │\n",
       "│ 2   │ wild type │ infected     │\n",
       "│ 3   │ wild type │ not infected │\n",
       "│ 4   │ wild type │ not infected │\n",
       "│ 5   │ wild type │ not infected │\n",
       "│ 6   │ wild type │ not infected │\n",
       "│ 7   │ wild type │ infected     │\n",
       "│ 8   │ wild type │ infected     │\n",
       "│ 9   │ wild type │ not infected │\n",
       "│ 10  │ wild type │ not infected │\n",
       "⋮\n",
       "│ 50  │ mutant    │ not infected │\n",
       "│ 51  │ mutant    │ not infected │\n",
       "│ 52  │ mutant    │ infected     │\n",
       "│ 53  │ mutant    │ not infected │\n",
       "│ 54  │ mutant    │ infected     │\n",
       "│ 55  │ mutant    │ not infected │\n",
       "│ 56  │ mutant    │ not infected │\n",
       "│ 57  │ mutant    │ not infected │\n",
       "│ 58  │ mutant    │ not infected │\n",
       "│ 59  │ mutant    │ infected     │\n",
       "│ 60  │ mutant    │ not infected │"
      ]
     },
     "execution_count": 101,
     "metadata": {},
     "output_type": "execute_result"
    }
   ],
   "source": [
    "df = CSV.read(\"banana_study.csv\", copycols=true)\n",
    "#kc = length(df[:, :outcome])"
   ]
  },
  {
   "cell_type": "markdown",
   "metadata": {},
   "source": [
    "(2) use the `by` command to group the banana plants in `df` by genetic variant and create a new `DataFrame`, `df_outcome`, with a new column, `p_infected`, that contains the proportion of plants of that variant that are infected by the fungus.\n",
    "\n",
    "i.e. create a dataframe, `df_outcome`:\n",
    "```\n",
    "     gene_x      p_infected\n",
    "    wild type       ...\n",
    "     mutant         ...\n",
    "```"
   ]
  },
  {
   "cell_type": "code",
   "execution_count": 102,
   "metadata": {
    "scrolled": true
   },
   "outputs": [
    {
     "data": {
      "text/html": [
       "<table class=\"data-frame\"><thead><tr><th></th><th>gene_x</th><th>p_infected</th></tr><tr><th></th><th>String</th><th>Float64</th></tr></thead><tbody><p>2 rows × 2 columns</p><tr><th>1</th><td>wild type</td><td>0.133333</td></tr><tr><th>2</th><td>mutant</td><td>0.3</td></tr></tbody></table>"
      ],
      "text/latex": [
       "\\begin{tabular}{r|cc}\n",
       "\t& gene\\_x & p\\_infected\\\\\n",
       "\t\\hline\n",
       "\t& String & Float64\\\\\n",
       "\t\\hline\n",
       "\t1 & wild type & 0.133333 \\\\\n",
       "\t2 & mutant & 0.3 \\\\\n",
       "\\end{tabular}\n"
      ],
      "text/plain": [
       "2×2 DataFrame\n",
       "│ Row │ gene_x    │ p_infected │\n",
       "│     │ \u001b[90mString\u001b[39m    │ \u001b[90mFloat64\u001b[39m    │\n",
       "├─────┼───────────┼────────────┤\n",
       "│ 1   │ wild type │ 0.133333   │\n",
       "│ 2   │ mutant    │ 0.3        │"
      ]
     },
     "execution_count": 102,
     "metadata": {},
     "output_type": "execute_result"
    }
   ],
   "source": [
    "# No 2\n",
    "df_by_gene_x_s = groupby(df, :gene_x)\n",
    "df_wild_type = df_by_gene_x_s[1]\n",
    "df_mutant = df_by_gene_x_s[2]\n",
    "df_inf_wild_type = filter(row -> row[:outcome] == \"infected\", df_wild_type)\n",
    "df_inf_mutant = filter(row -> row[:outcome] == \"infected\", df_mutant)\n",
    "numb_inf_wild_type = length(df_inf_wild_type[:,:outcome])\n",
    "numb_inf_mutant = length(df_inf_mutant[:,:outcome])\n",
    "gene_x = [df_wild_type[1,:gene_x], df_mutant[1,:gene_x]]\n",
    "p_infected = [numb_inf_wild_type/(length(df_wild_type[:,:outcome])), numb_inf_mutant/(length(df_mutant[:,:outcome]))]\n",
    "\n",
    "df_infected = DataFrame(gene_x=gene_x, p_infected=p_infected)\n"
   ]
  },
  {
   "cell_type": "markdown",
   "metadata": {},
   "source": [
    "(3) create a data visualization representing `df_outcome`. particularly, make a bar plot with two bars, one corresponding to wild type, the other to mutant. Then make the bar heights equal to the respective proportion of banana plants of that genetic variant that were infected by the fungus. With a different color, stack a bar *on top* of these bars to represent the proportion that were not infected. The total height of each bar (sum of the two bars of different colors, stacked on top of each other) should be 1.0 to represent the entire set of bananas falling in that group. A skeleton code is shown below as an example. properly label your x-axis, y-axis, and x-ticks, and place a legend to denote the colors."
   ]
  },
  {
   "cell_type": "code",
   "execution_count": 103,
   "metadata": {},
   "outputs": [
    {
     "data": {
      "image/png": "[encoded data removed]",
      "text/plain": [
       "Figure(PyObject <Figure size 640x480 with 1 Axes>)"
      ]
     },
     "metadata": {},
     "output_type": "display_data"
    },
    {
     "data": {
      "text/plain": [
       "PyObject <matplotlib.legend.Legend object at 0x1471b3898>"
      ]
     },
     "execution_count": 103,
     "metadata": {},
     "output_type": "execute_result"
    }
   ],
   "source": [
    "# No 3\n",
    "p_inf_wild_type = df_infected[1,:p_infected]\n",
    "p_inf_mutant = df_infected[2,:p_infected]\n",
    "p_not_inf_wild_type = 1- p_inf_wild_type\n",
    "p_not_inf_mutant = 1 - p_inf_mutant\n",
    "ind = 1:2\n",
    "figure()\n",
    "p1 = bar(ind, [p_inf_wild_type, p_inf_mutant])\n",
    "p2 = bar(ind, [p_not_inf_wild_type, p_not_inf_mutant], bottom = [p_inf_wild_type, p_inf_mutant])\n",
    "xticks(ind, (\"wild type\", \"mutant\"))\n",
    "ylabel(\"# proportion infected\")\n",
    "legend((p1, p2),(\"infected\", \"not infected\"))"
   ]
  },
  {
   "cell_type": "code",
   "execution_count": 104,
   "metadata": {
    "scrolled": false
   },
   "outputs": [],
   "source": [
    "#df_by_gene_x_s = groupby(df, :gene_x)\n",
    "#count_wild_inf = 0;\n",
    "#count_wild_not_inf = 0;\n",
    "#df_by_wild_type;\n",
    "#df_by_mutant;\n",
    "#for df_by_gene_x in df_by_gene_x_s\n",
    "    \n",
    "#end\n",
    "#infect_bana = filter(row -> row[:outcome] == \"infected\", df_by_gene_x)\n",
    "#numb_infect = length(numb_infect[:, :outcome])\n",
    "    \n",
    "\n",
    "#figure()\n",
    "#bar(1:2, [0.1, 0.5])\n",
    "#bar(1:2, [0.9, 0.5], bottom=[0.1, 0.5])"
   ]
  },
  {
   "cell_type": "markdown",
   "metadata": {},
   "source": [
    "(4) Which genetic variant has the smallest proportion of infected plants? Can we conclude that this genetic variant is **certainly** more resistant to Panama disease than the other? If not, state a hypothetical but concrete reason why this outcome could be due to chance."
   ]
  },
  {
   "cell_type": "markdown",
   "metadata": {},
   "source": [
    "Answer: The wild type has the smallest proportion of infected plants, No we cannot conclude that this genetic variant is more resistant to panama diseases. "
   ]
  },
  {
   "cell_type": "markdown",
   "metadata": {},
   "source": [
    "(5) Formally state the null hypothesis and alternative hypothesis that pertains to this experiment.\n",
    "\n",
    "Among the population of banana plants exposed to the fungus that causes Panama disease:\n",
    "\n",
    "the null hypothesis is the proportion of infected plant among the wild type  is identical to those in the mutant group\n",
    "\n",
    "the **alternative hypothesis is the proportion of infected plant among the wild type is different from those in the mutant group"
   ]
  },
  {
   "cell_type": "markdown",
   "metadata": {},
   "source": [
    "(6) Let us define and use the following test statistic, which would differ depending on whether the null or alternative hypothesis were true:\n",
    "\n",
    "**test statistic** := (proportion of plants harboring mutant gene X that were infected) - (proportion of plants harboring wild type gene X that were infected)\n",
    "\n",
    "(6a) write a function `proportion_infected` that takes in three arguments:\n",
    "* `df_banana`, a `DataFrame` where each row is a banana, with an `:outcome` column (:infected\" or \"not infected\") and another column indicating which variant of gene X (\"wild type\" or \"mutant\") that plant harbors. `df` from (1) is an example input argument.\n",
    "* `gene_x_col_name`, a `Symbol`, the name of the column in `df_banana` that indicates which gene X variant the plants harbor (\"wild type\" or \"mutant\"). so `df_banana[1, gene_x_col_name]` gives us the variant of banana 1.\n",
    "* `gene_x`, a `String`, that can be either \"wild type\" or \"mutant\"\n",
    "\n",
    "and returns the proportion of banana plants harboring `gene_x` (`=\"wild type\"` or `=\"mutant\"`) gene X that were infected by fungus."
   ]
  },
  {
   "cell_type": "code",
   "execution_count": 105,
   "metadata": {},
   "outputs": [
    {
     "data": {
      "text/plain": [
       "0.3"
      ]
     },
     "execution_count": 105,
     "metadata": {},
     "output_type": "execute_result"
    }
   ],
   "source": [
    "#6\n",
    "\"\"\"\n",
    "return the proportion of banana plants infected by the fungus that harbor a certain gene X variant\n",
    "\"\"\"\n",
    "function proportion_infected(df_cauli::SubDataFrame)\n",
    "    inf_type = filter(row -> row[:outcome] == \"infected\", df_cauli)\n",
    "    numb_inf_type = length(inf_type[:,:outcome])\n",
    "    total_num = length(df_cauli[:,:outcome])\n",
    "    fract = numb_inf_type/total_num\n",
    "    return fract\n",
    "end\n",
    "\n",
    "kc = proportion_infected(df_mutant)\n",
    "\n",
    "#df[!, :outcome_shuffled]  = shuffle(df[:, :outcome])\n",
    "#df"
   ]
  },
  {
   "cell_type": "markdown",
   "metadata": {},
   "source": [
    "(6b) write a function `difference_in_proportions_infected` that takes in two arguments:\n",
    "* `df_banana::DataFrame` as above\n",
    "* `gene_x_col_name::Symbol` as above\n",
    "\n",
    "and returns the test statistic. Inside this function, you should call your function from (6a) directly above, twice.\n",
    "\n",
    "compute the actual, observed (as opposed to simulated under the null hypothesis, which we will do next) test statistic of our data set using `df` from (1)."
   ]
  },
  {
   "cell_type": "code",
   "execution_count": 106,
   "metadata": {},
   "outputs": [
    {
     "data": {
      "text/plain": [
       "0.16666666666666666"
      ]
     },
     "execution_count": 106,
     "metadata": {},
     "output_type": "execute_result"
    }
   ],
   "source": [
    "# No 6(b)\n",
    "\"\"\"\n",
    "p_wild_type := proportion of banana plants harboring wild type gene X infected by fungus\n",
    "p_mutant := proportion of banana plants harboring mutant gene X infected by fungus\n",
    "\n",
    "test statistic := p_mutant - p_wild_type.\n",
    "\"\"\"\n",
    "function difference_in_proportions_infected(df_cauli::DataFrame, group_col_name::Symbol)\n",
    "     #df_cauli[!, :shuffled_gene_x]  = shuffle(df_cauli[:, group_col_name])\n",
    "     df_by = groupby(df_cauli, group_col_name)\n",
    "     wild_type_df = df_by[1]\n",
    "     mutant_df = df_by[2]\n",
    "     fract_wild_type = proportion_infected(wild_type_df)\n",
    "     fract_mutant = proportion_infected(mutant_df)\n",
    "     return (fract_mutant - fract_wild_type)\n",
    "end\n",
    "\n",
    "actual_diff_proportion = difference_in_proportions_infected(df, :gene_x)"
   ]
  },
  {
   "cell_type": "markdown",
   "metadata": {},
   "source": [
    "(7) imagine we are at the beginning of the experiment where we selected 60 banana plants. at this point, we are randomly selecting which banana plants receive the genetic modification on gene X and which do not. now, simulate one repetition of the banana study, **operating under the assumption that the null hypothesis is true**, by permuting the labels in the `gene_x` column of `df`. this effectively simulates the random allocation of healthy banana plants to the two groups:\n",
    "* group A: do not receive genetic modification on gene X (wild type)\n",
    "* group B: receive genetic modification on gene X (mutant)\n",
    "\n",
    "assume that the botanist plants these banana plant seeds in exactly the same pots in the greenhouse. in this conceptual experiment, the outcome (infected vs. not) would be exactly the same **if the null hypothesis were true**, since then the genetic modification makes no difference in susceptibility to fungal infection. assign the permuted labels to be a new column in `df` called `:shuffled_gene_x`."
   ]
  },
  {
   "cell_type": "code",
   "execution_count": 107,
   "metadata": {
    "scrolled": true
   },
   "outputs": [
    {
     "data": {
      "text/html": [
       "<table class=\"data-frame\"><thead><tr><th></th><th>gene_x</th><th>outcome</th><th>shuffled_gene_x</th></tr><tr><th></th><th>String</th><th>String</th><th>String</th></tr></thead><tbody><p>60 rows × 3 columns</p><tr><th>1</th><td>wild type</td><td>not infected</td><td>wild type</td></tr><tr><th>2</th><td>wild type</td><td>infected</td><td>mutant</td></tr><tr><th>3</th><td>wild type</td><td>not infected</td><td>wild type</td></tr><tr><th>4</th><td>wild type</td><td>not infected</td><td>mutant</td></tr><tr><th>5</th><td>wild type</td><td>not infected</td><td>wild type</td></tr><tr><th>6</th><td>wild type</td><td>not infected</td><td>mutant</td></tr><tr><th>7</th><td>wild type</td><td>infected</td><td>wild type</td></tr><tr><th>8</th><td>wild type</td><td>infected</td><td>wild type</td></tr><tr><th>9</th><td>wild type</td><td>not infected</td><td>mutant</td></tr><tr><th>10</th><td>wild type</td><td>not infected</td><td>mutant</td></tr><tr><th>11</th><td>wild type</td><td>not infected</td><td>mutant</td></tr><tr><th>12</th><td>wild type</td><td>not infected</td><td>mutant</td></tr><tr><th>13</th><td>wild type</td><td>not infected</td><td>mutant</td></tr><tr><th>14</th><td>wild type</td><td>not infected</td><td>wild type</td></tr><tr><th>15</th><td>wild type</td><td>not infected</td><td>mutant</td></tr><tr><th>16</th><td>wild type</td><td>not infected</td><td>wild type</td></tr><tr><th>17</th><td>wild type</td><td>not infected</td><td>wild type</td></tr><tr><th>18</th><td>wild type</td><td>not infected</td><td>mutant</td></tr><tr><th>19</th><td>wild type</td><td>infected</td><td>mutant</td></tr><tr><th>20</th><td>wild type</td><td>not infected</td><td>mutant</td></tr><tr><th>21</th><td>wild type</td><td>not infected</td><td>mutant</td></tr><tr><th>22</th><td>wild type</td><td>not infected</td><td>wild type</td></tr><tr><th>23</th><td>wild type</td><td>not infected</td><td>wild type</td></tr><tr><th>24</th><td>wild type</td><td>not infected</td><td>wild type</td></tr><tr><th>25</th><td>wild type</td><td>not infected</td><td>mutant</td></tr><tr><th>26</th><td>wild type</td><td>not infected</td><td>mutant</td></tr><tr><th>27</th><td>wild type</td><td>not infected</td><td>wild type</td></tr><tr><th>28</th><td>wild type</td><td>not infected</td><td>mutant</td></tr><tr><th>29</th><td>wild type</td><td>not infected</td><td>wild type</td></tr><tr><th>30</th><td>wild type</td><td>not infected</td><td>mutant</td></tr><tr><th>&vellip;</th><td>&vellip;</td><td>&vellip;</td><td>&vellip;</td></tr></tbody></table>"
      ],
      "text/latex": [
       "\\begin{tabular}{r|ccc}\n",
       "\t& gene\\_x & outcome & shuffled\\_gene\\_x\\\\\n",
       "\t\\hline\n",
       "\t& String & String & String\\\\\n",
       "\t\\hline\n",
       "\t1 & wild type & not infected & wild type \\\\\n",
       "\t2 & wild type & infected & mutant \\\\\n",
       "\t3 & wild type & not infected & wild type \\\\\n",
       "\t4 & wild type & not infected & mutant \\\\\n",
       "\t5 & wild type & not infected & wild type \\\\\n",
       "\t6 & wild type & not infected & mutant \\\\\n",
       "\t7 & wild type & infected & wild type \\\\\n",
       "\t8 & wild type & infected & wild type \\\\\n",
       "\t9 & wild type & not infected & mutant \\\\\n",
       "\t10 & wild type & not infected & mutant \\\\\n",
       "\t11 & wild type & not infected & mutant \\\\\n",
       "\t12 & wild type & not infected & mutant \\\\\n",
       "\t13 & wild type & not infected & mutant \\\\\n",
       "\t14 & wild type & not infected & wild type \\\\\n",
       "\t15 & wild type & not infected & mutant \\\\\n",
       "\t16 & wild type & not infected & wild type \\\\\n",
       "\t17 & wild type & not infected & wild type \\\\\n",
       "\t18 & wild type & not infected & mutant \\\\\n",
       "\t19 & wild type & infected & mutant \\\\\n",
       "\t20 & wild type & not infected & mutant \\\\\n",
       "\t21 & wild type & not infected & mutant \\\\\n",
       "\t22 & wild type & not infected & wild type \\\\\n",
       "\t23 & wild type & not infected & wild type \\\\\n",
       "\t24 & wild type & not infected & wild type \\\\\n",
       "\t25 & wild type & not infected & mutant \\\\\n",
       "\t26 & wild type & not infected & mutant \\\\\n",
       "\t27 & wild type & not infected & wild type \\\\\n",
       "\t28 & wild type & not infected & mutant \\\\\n",
       "\t29 & wild type & not infected & wild type \\\\\n",
       "\t30 & wild type & not infected & mutant \\\\\n",
       "\t$\\dots$ & $\\dots$ & $\\dots$ & $\\dots$ \\\\\n",
       "\\end{tabular}\n"
      ],
      "text/plain": [
       "60×3 DataFrame\n",
       "│ Row │ gene_x    │ outcome      │ shuffled_gene_x │\n",
       "│     │ \u001b[90mString\u001b[39m    │ \u001b[90mString\u001b[39m       │ \u001b[90mString\u001b[39m          │\n",
       "├─────┼───────────┼──────────────┼─────────────────┤\n",
       "│ 1   │ wild type │ not infected │ wild type       │\n",
       "│ 2   │ wild type │ infected     │ mutant          │\n",
       "│ 3   │ wild type │ not infected │ wild type       │\n",
       "│ 4   │ wild type │ not infected │ mutant          │\n",
       "│ 5   │ wild type │ not infected │ wild type       │\n",
       "│ 6   │ wild type │ not infected │ mutant          │\n",
       "│ 7   │ wild type │ infected     │ wild type       │\n",
       "│ 8   │ wild type │ infected     │ wild type       │\n",
       "│ 9   │ wild type │ not infected │ mutant          │\n",
       "│ 10  │ wild type │ not infected │ mutant          │\n",
       "⋮\n",
       "│ 50  │ mutant    │ not infected │ wild type       │\n",
       "│ 51  │ mutant    │ not infected │ wild type       │\n",
       "│ 52  │ mutant    │ infected     │ mutant          │\n",
       "│ 53  │ mutant    │ not infected │ mutant          │\n",
       "│ 54  │ mutant    │ infected     │ wild type       │\n",
       "│ 55  │ mutant    │ not infected │ wild type       │\n",
       "│ 56  │ mutant    │ not infected │ wild type       │\n",
       "│ 57  │ mutant    │ not infected │ mutant          │\n",
       "│ 58  │ mutant    │ not infected │ mutant          │\n",
       "│ 59  │ mutant    │ infected     │ mutant          │\n",
       "│ 60  │ mutant    │ not infected │ mutant          │"
      ]
     },
     "execution_count": 107,
     "metadata": {},
     "output_type": "execute_result"
    }
   ],
   "source": [
    "# No 7\n",
    "df[!, :shuffled_gene_x]  = shuffle(df[:, :gene_x])\n",
    "df"
   ]
  },
  {
   "cell_type": "markdown",
   "metadata": {},
   "source": [
    "(8) **operating under the assumption that the null hypothesis is true:**\n",
    "\n",
    "(8a) simulate 10,000 repetitions of the randomized banana experiment. keep track of the test statistic observed from each simulation. \n",
    "\n",
    "(8b) plot the distribution of the test statistic. make your bins for the histogram manually to ensure the bin that includes zero is centered at zero. draw a red, vertical line at the actual test statistic observed in the experiment. the mean value of the test statistic should be around zero. make sure you understand why.\n",
    "\n",
    "(8c) compute the p-value associated with our null hypothesis that you obtained from your **random permutation test**.\n",
    "\n",
    "(8d) precisely explain in a few sentences or less what this p-value represents."
   ]
  },
  {
   "cell_type": "code",
   "execution_count": 108,
   "metadata": {},
   "outputs": [
    {
     "data": {
      "text/plain": [
       "10000-element Array{Float64,1}:\n",
       " -0.1                 \n",
       "  0.033333333333333326\n",
       " -0.16666666666666666 \n",
       " -0.033333333333333326\n",
       " -0.1                 \n",
       " -0.1                 \n",
       "  0.1                 \n",
       "  0.1                 \n",
       " -0.16666666666666666 \n",
       " -0.033333333333333326\n",
       "  0.1                 \n",
       " -0.2333333333333333  \n",
       " -0.033333333333333326\n",
       "  ⋮                   \n",
       " -0.033333333333333326\n",
       " -0.033333333333333326\n",
       " -0.1                 \n",
       "  0.1                 \n",
       " -0.033333333333333326\n",
       "  0.033333333333333326\n",
       "  0.033333333333333326\n",
       "  0.033333333333333326\n",
       "  0.1                 \n",
       " -0.033333333333333326\n",
       "  0.1                 \n",
       "  0.16666666666666666 "
      ]
     },
     "execution_count": 108,
     "metadata": {},
     "output_type": "execute_result"
    }
   ],
   "source": [
    "#8a\n",
    "nb_sims = 10000\n",
    "differences_in_proportions = [NaN for s = 1:nb_sims]\n",
    "for s = 1:nb_sims\n",
    "   df[!, :shuffled_gene_x]  = shuffle(df[:, :gene_x])\n",
    "   differences_in_proportions[s] = difference_in_proportions_infected(df, :shuffled_gene_x)\n",
    "end\n",
    "differences_in_proportions"
   ]
  },
  {
   "cell_type": "code",
   "execution_count": 111,
   "metadata": {
    "scrolled": false
   },
   "outputs": [
    {
     "data": {
      "image/png": "[encoded data removed]",
      "text/plain": [
       "Figure(PyObject <Figure size 640x480 with 1 Axes>)"
      ]
     },
     "metadata": {},
     "output_type": "display_data"
    },
    {
     "data": {
      "text/plain": [
       "([6.0, 50.0, 218.0, 2345.0, 2338.0, 2324.0, 2440.0, 225.0, 47.0, 7.0], [-0.43333333333333335, -0.3466666666666667, -0.26, -0.17333333333333334, -0.08666666666666667, 0.0, 0.08666666666666667, 0.17333333333333334, 0.26, 0.3466666666666667, 0.43333333333333335], PyCall.PyObject[PyObject <matplotlib.patches.Rectangle object at 0x148cc8c88>, PyObject <matplotlib.patches.Rectangle object at 0x148cc8a58>, PyObject <matplotlib.patches.Rectangle object at 0x148cc8f60>, PyObject <matplotlib.patches.Rectangle object at 0x148cd3550>, PyObject <matplotlib.patches.Rectangle object at 0x148cd3860>, PyObject <matplotlib.patches.Rectangle object at 0x148cd3b70>, PyObject <matplotlib.patches.Rectangle object at 0x148cd3e80>, PyObject <matplotlib.patches.Rectangle object at 0x148cd3f98>, PyObject <matplotlib.patches.Rectangle object at 0x148e224e0>, PyObject <matplotlib.patches.Rectangle object at 0x148e227f0>])"
      ]
     },
     "execution_count": 111,
     "metadata": {},
     "output_type": "execute_result"
    }
   ],
   "source": [
    "#8b\n",
    "figure()\n",
    "ylabel(\"# no_of_simulations\")\n",
    "xlabel(\"difference in proportion mutant-wild type\")\n",
    "title(\"under the null hypothesis\")\n",
    "axvline(x=actual_diff_proportion, c=\"C1\")\n",
    "hist(differences_in_proportions)"
   ]
  },
  {
   "cell_type": "code",
   "execution_count": 113,
   "metadata": {},
   "outputs": [
    {
     "data": {
      "text/plain": [
       "0.0279"
      ]
     },
     "execution_count": 113,
     "metadata": {},
     "output_type": "execute_result"
    }
   ],
   "source": [
    "#No 8c\n",
    "p_value = sum(differences_in_proportions.>actual_diff_proportion)/nb_sims"
   ]
  },
  {
   "cell_type": "markdown",
   "metadata": {},
   "source": [
    "what is the p-value in this context? \n",
    "\n",
    "(your answer here):There is a 2.79 percent chance that difference between the proportion of the infected in the wild type and the mutant due to randomness"
   ]
  },
  {
   "cell_type": "markdown",
   "metadata": {},
   "source": [
    "(9) if the level of significance is set at $\\alpha=0.05$, you may have the tendency to make a bold conclusion, such as \"mutating gene X confers resistance to fungal infection\" or \"mutating gene X does not influence the susceptibility to fungal infection\". however, such \"dichotomization\" is a mis-interpretation of the p-value. we must embrace uncertainty! see [this recent article in Nature](https://www.nature.com/articles/d41586-019-00857-9) where, owing to the tendency to misinterpret p-values, some scientists call for abandoning the notion of statistical significance.\n",
    "\n",
    "> \"We are calling for a stop to the use of P values in the conventional, dichotomous way -- to decide whether a result refutes or supports a scientific hypothesis\" [source](https://www.nature.com/articles/d41586-019-00857-9)\n"
   ]
  },
  {
   "cell_type": "markdown",
   "metadata": {},
   "source": [
    "## warning\n",
    "it is very easy to follow the steps and permute the labels in the `:gene_x` column without understanding *why*. please make sure to think carefully about why you can permute the labels to simualte the experiment under the null hypothesis. also think about why you cannot simulate the experiment under the alternative hypothesis.\n",
    "\n",
    "## random note on bananas\n",
    "for those interested, [here](https://www.youtube.com/watch?v=YkI3zkQ4WBo&t) is an interesting, 20-minute YouTube documentary on the banana and how it is threatened by Panama disease."
   ]
  }
 ],
 "metadata": {
  "@webio": {
   "lastCommId": null,
   "lastKernelId": null
  },
  "kernelspec": {
   "display_name": "Julia 1.2.0",
   "language": "julia",
   "name": "julia-1.2"
  },
  "language_info": {
   "file_extension": ".jl",
   "mimetype": "application/julia",
   "name": "julia",
   "version": "1.2.0"
  }
 },
 "nbformat": 4,
 "nbformat_minor": 2
}
